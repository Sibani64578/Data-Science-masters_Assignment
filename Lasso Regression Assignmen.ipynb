{
 "cells": [
  {
   "cell_type": "markdown",
   "id": "022864b1-d953-4996-b38b-0f28b9e34b30",
   "metadata": {},
   "source": [
    "# Q1. What is Lasso Regression, and how does it differ from other regression techniques?"
   ]
  },
  {
   "cell_type": "markdown",
   "id": "d33c63b9-c466-4652-8e9b-55a61360e207",
   "metadata": {},
   "source": [
    "Lasso Regression, short for \"Least Absolute Shrinkage and Selection Operator\" Regression, is a linear regression technique used in machine learning and statistics. It is a regularization method that aims to prevent overfitting and feature selection in a regression model by adding a penalty term to the standard linear regression cost function.\n"
   ]
  },
  {
   "cell_type": "markdown",
   "id": "bc30a4cd-e4b8-480f-b2a7-6d7760175ba4",
   "metadata": {},
   "source": [
    "# Q2. What is the main advantage of using Lasso Regression in feature selection?"
   ]
  },
  {
   "cell_type": "markdown",
   "id": "ea4dfabb-74c0-48cd-b04a-eddc4cc8fd17",
   "metadata": {},
   "source": [
    "The main advantage of using Lasso Regression for feature selection is its ability to automatically identify and select the most relevant features while discarding irrelevant or redundant ones. This feature selection capability offers several benefits:"
   ]
  },
  {
   "cell_type": "markdown",
   "id": "de22303a-ff3a-4a3a-b438-00e7c8c4f218",
   "metadata": {},
   "source": [
    "# Q3. How do you interpret the coefficients of a Lasso Regression model?"
   ]
  },
  {
   "cell_type": "markdown",
   "id": "6060503d-3631-4a64-b56b-f4533748ab83",
   "metadata": {},
   "source": [
    "Interpreting the coefficients of a Lasso Regression model is similar to interpreting coefficients in a standard linear regression model. However, because Lasso Regression can lead to some coefficients being exactly zero, there are a few nuances to consider"
   ]
  },
  {
   "cell_type": "markdown",
   "id": "f86c0de1-8ba1-4a66-b2f8-47386c0f7b28",
   "metadata": {},
   "source": [
    "# Q4. What are the tuning parameters that can be adjusted in Lasso Regression, and how do they affect the model's performance?"
   ]
  },
  {
   "cell_type": "markdown",
   "id": "58ca0df9-1ea4-41ca-862d-59d5f626a74c",
   "metadata": {},
   "source": [
    "In Lasso Regression, there are two main tuning parameters that can be adjusted to control the model's behavior: the regularization parameter (often denoted as \"alpha\" or \"lambda\") and the scaling of the features. These parameters have a significant impact on the model's performance and behavior"
   ]
  },
  {
   "cell_type": "markdown",
   "id": "3d4253e7-b53c-4610-8e84-774ab405834d",
   "metadata": {},
   "source": [
    "# Q5. Can Lasso Regression be used for non-linear regression problems? If yes, how?"
   ]
  },
  {
   "cell_type": "markdown",
   "id": "4c7a6634-f046-4597-ad54-e168698c971b",
   "metadata": {},
   "source": [
    "Lasso Regression is primarily designed for linear regression problems, meaning it models the relationship between the features and the target variable as a linear combination of the feature values. It assumes that the relationship is linear, which might not be suitable for capturing complex, non-linear relationships between the features and the target variable."
   ]
  },
  {
   "cell_type": "code",
   "execution_count": null,
   "id": "a43edd45-8aee-4b45-b286-a7f3e4ce5c06",
   "metadata": {},
   "outputs": [],
   "source": []
  }
 ],
 "metadata": {
  "kernelspec": {
   "display_name": "Python 3 (ipykernel)",
   "language": "python",
   "name": "python3"
  },
  "language_info": {
   "codemirror_mode": {
    "name": "ipython",
    "version": 3
   },
   "file_extension": ".py",
   "mimetype": "text/x-python",
   "name": "python",
   "nbconvert_exporter": "python",
   "pygments_lexer": "ipython3",
   "version": "3.10.8"
  }
 },
 "nbformat": 4,
 "nbformat_minor": 5
}
