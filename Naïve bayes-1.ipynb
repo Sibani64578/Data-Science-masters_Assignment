{
 "cells": [
  {
   "cell_type": "markdown",
   "id": "1ee0e0c1-7980-46d3-b170-f7fc66cd60fa",
   "metadata": {},
   "source": [
    "# Q1. What is Bayes' theorem?"
   ]
  },
  {
   "cell_type": "markdown",
   "id": "b375c83f-671a-49d4-934f-6b11cb82bd2a",
   "metadata": {},
   "source": [
    "It describes how to update or revise the probability of a hypothesis (an educated guess or belief) based on new evidence or information. The theorem is particularly important in the field of Bayesian probability and Bayesian inference."
   ]
  },
  {
   "cell_type": "markdown",
   "id": "697b41a5-6aca-4734-b2a2-93057d032fda",
   "metadata": {},
   "source": [
    "# Q2. What is the formula for Bayes' theorem?"
   ]
  },
  {
   "cell_type": "markdown",
   "id": "a43ba4f5-89b0-47f3-8bcb-ed5e27a3f9de",
   "metadata": {},
   "source": [
    "pr(A/B)=(Pr(A)*Pr(B/A))/pr(B)"
   ]
  },
  {
   "cell_type": "markdown",
   "id": "d12d1177-b960-4739-b259-3dd68b6dc4c2",
   "metadata": {},
   "source": [
    "# Q3. How is Bayes' theorem used in practice?"
   ]
  },
  {
   "cell_type": "markdown",
   "id": "325c4241-af2b-4b02-be6d-cb6e0d8c6d28",
   "metadata": {},
   "source": [
    "Bayes' theorem is used in practice in a wide range of fields to make probabilistic inferences and decisions based on available data and prior beliefs."
   ]
  },
  {
   "cell_type": "markdown",
   "id": "c506eb86-d897-4e66-be9e-d0bc7b408051",
   "metadata": {},
   "source": [
    "# Q4. What is the relationship between Bayes' theorem and conditional probability?"
   ]
  },
  {
   "cell_type": "markdown",
   "id": "eef41007-8ce9-48ea-983e-1878fd90576e",
   "metadata": {},
   "source": [
    "Bayes' theorem and conditional probability are closely related concepts in probability theory, and Bayes' theorem can be derived from the principles of conditional probability. Here's how they are connected:\n",
    "\n",
    "Conditional Probability (P(A|B)): Conditional probability is the probability of an event A occurring given that another event B has already occurred. It is represented as P(A|B) and is calculated as:P(A∣B)= \n",
    "P(B)\n",
    "P(B∣A)⋅P(A)\n",
    "​\n"
   ]
  }
 ],
 "metadata": {
  "kernelspec": {
   "display_name": "Python 3 (ipykernel)",
   "language": "python",
   "name": "python3"
  },
  "language_info": {
   "codemirror_mode": {
    "name": "ipython",
    "version": 3
   },
   "file_extension": ".py",
   "mimetype": "text/x-python",
   "name": "python",
   "nbconvert_exporter": "python",
   "pygments_lexer": "ipython3",
   "version": "3.10.8"
  }
 },
 "nbformat": 4,
 "nbformat_minor": 5
}
