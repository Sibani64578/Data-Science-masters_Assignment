{
 "cells": [
  {
   "cell_type": "markdown",
   "id": "2434b116-81d7-4fb9-ae2c-1a78b41435dd",
   "metadata": {},
   "source": [
    "# Q1. How does bagging reduce overfitting in decision trees?"
   ]
  },
  {
   "cell_type": "markdown",
   "id": "bfbb308c-ff8b-4108-8f0f-94fd25e11611",
   "metadata": {},
   "source": [
    "Bagging, which stands for Bootstrap Aggregating, is a popular ensemble technique used to reduce overfitting in decision trees and other machine learning models. Here's how bagging works and how it helps mitigate overfitting:"
   ]
  },
  {
   "cell_type": "code",
   "execution_count": null,
   "id": "3d63b78d-91fe-466f-a19e-cba640349f02",
   "metadata": {},
   "outputs": [],
   "source": []
  }
 ],
 "metadata": {
  "kernelspec": {
   "display_name": "Python 3 (ipykernel)",
   "language": "python",
   "name": "python3"
  },
  "language_info": {
   "codemirror_mode": {
    "name": "ipython",
    "version": 3
   },
   "file_extension": ".py",
   "mimetype": "text/x-python",
   "name": "python",
   "nbconvert_exporter": "python",
   "pygments_lexer": "ipython3",
   "version": "3.10.8"
  }
 },
 "nbformat": 4,
 "nbformat_minor": 5
}
