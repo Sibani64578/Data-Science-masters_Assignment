{
 "cells": [
  {
   "cell_type": "markdown",
   "id": "a4e9b8e0-cca2-40dc-9576-b4742299da58",
   "metadata": {},
   "source": [
    "# Q1. What is an ensemble technique in machine learning?"
   ]
  },
  {
   "cell_type": "markdown",
   "id": "18d02a21-6b1f-47b2-85c5-a21f372c22a9",
   "metadata": {},
   "source": [
    "combining multiple models and train and predictions"
   ]
  },
  {
   "cell_type": "markdown",
   "id": "018f2200-114a-4b88-9112-03494ee911c2",
   "metadata": {},
   "source": [
    "# Q2. Why are ensemble techniques used in machine learning?"
   ]
  },
  {
   "cell_type": "markdown",
   "id": "563b1039-0aac-476b-a10d-0de55b7910c6",
   "metadata": {},
   "source": [
    "improve the performance and robustness of predictive models. "
   ]
  },
  {
   "cell_type": "markdown",
   "id": "ed71c8ca-6ef1-4a4b-9e98-80e77dd1ed3c",
   "metadata": {},
   "source": [
    "# Q3. What is bagging?"
   ]
  },
  {
   "cell_type": "markdown",
   "id": "cef63c92-6efe-4c42-b92c-e46dbafcfdab",
   "metadata": {},
   "source": [
    "the are mainly paralaley conected"
   ]
  },
  {
   "cell_type": "markdown",
   "id": "61cb67df-d0a4-4553-8ca4-29d90d175bd2",
   "metadata": {},
   "source": [
    "# Q4. What is boosting?"
   ]
  },
  {
   "cell_type": "markdown",
   "id": "7e33628c-2694-4ee3-8967-38e013984e9e",
   "metadata": {},
   "source": [
    "sequentially connected"
   ]
  },
  {
   "cell_type": "markdown",
   "id": "512a0bd5-5ab7-4ee8-9246-2c2e0eb02567",
   "metadata": {},
   "source": [
    "# Q5. What are the benefits of using ensemble techniques?"
   ]
  },
  {
   "cell_type": "markdown",
   "id": "de875291-f9f6-4236-8ea9-c4bb7a567712",
   "metadata": {},
   "source": [
    "Improved Predictive Accuracy: One of the primary advantages of ensemble methods is that they often lead to better predictive accuracy compared to individual models. By combining the predictions of multiple models, ensembles can reduce errors and provide more reliable result"
   ]
  },
  {
   "cell_type": "code",
   "execution_count": null,
   "id": "c655a08c-b6b8-42c6-8552-b7f8576ba35b",
   "metadata": {},
   "outputs": [],
   "source": []
  }
 ],
 "metadata": {
  "kernelspec": {
   "display_name": "Python 3 (ipykernel)",
   "language": "python",
   "name": "python3"
  },
  "language_info": {
   "codemirror_mode": {
    "name": "ipython",
    "version": 3
   },
   "file_extension": ".py",
   "mimetype": "text/x-python",
   "name": "python",
   "nbconvert_exporter": "python",
   "pygments_lexer": "ipython3",
   "version": "3.10.8"
  }
 },
 "nbformat": 4,
 "nbformat_minor": 5
}
