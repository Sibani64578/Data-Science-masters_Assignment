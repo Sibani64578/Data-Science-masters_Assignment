{
 "cells": [
  {
   "cell_type": "markdown",
   "id": "df454a50-6e70-429c-9304-0bddca8e36ff",
   "metadata": {},
   "source": [
    "Q1.Explain the following with an example\n",
    "a) Artificial Intelligence\n",
    "b) Machine learning\n",
    "c)deep learning"
   ]
  },
  {
   "cell_type": "markdown",
   "id": "64653c2a-1bc1-4118-941b-1225cc24203b",
   "metadata": {},
   "source": [
    "Artificial Intelligence: AI is purely math and scientific exercise, but when it became computational, it\n",
    "started to solve human problems formalized into a subset of computer science. Artificial intelligence has\n",
    "changed the original computational statistics paradigm to the modern idea that machines could mimic\n",
    "actual human capabilities, such as decision making and performing more “human” tasks. Modern AI into\n",
    "two categories\n",
    "1. General AI - Planning, decision making, identifying objects, recognizing sounds, social &\n",
    "business transactions\n",
    "2. Applied AI - driverless/ Autonomous car or machine smartly trade stocks\n",
    "Machine Learning: Instead of engineers “teaching” or programming computers to have what they need\n",
    "to carry out tasks, that perhaps computers could teach themselves – learn something without being\n",
    "explicitly programmed to do so. ML is a form of AI where based on more data, and they can change\n",
    "actions and response, which will make more efficient, adaptable and scalable. e.g., navigation apps and\n",
    "recommendation engines. Classified into:-\n",
    "1. Supervised\n",
    "2. Unsupervised\n",
    "3. Reinforcement learning\n",
    "\n",
    "Data Science: Data science has many tools, techniques, and algorithms called from these fields, plus\n",
    "others –to handle big data\n",
    "The goal of data science, somewhat similar to machine learning, is to make accurate predictions and to\n",
    "automate and perform transactions in real-time, such as purchasing internet traffic or automatically\n",
    "generating content.\n",
    "Data science relies less on math and coding and more on data and building new systems to process the\n",
    "data. Relying on the fields of data integration, distributed architecture, automated machine learning, data\n",
    "visualization, data engineering, and automated data-driven decisions, data science can cover an entire\n",
    "spectrum of data processing, not only the algorithms or statistics related to data.\n",
    "Deep Learning: It is a technique for implementing ML.\n",
    "ML provides the desired output from a given input, but DL reads the input and applies it to another data.\n",
    "In ML, we can easily classify the flower based upon the features. Suppose you want a machine to look at\n",
    "an image and determine what it represents to the human eye, whether a face, flower, landscape, truck,\n",
    "building, etc.\n",
    "Machine learning is not sufficient for this task because machine learning can only produce an output from\n",
    "a data set – whether according to a known algorithm or based on the inherent structure of the data. You\n",
    "might be able to use machine learning to determine whether an image was of an “X” – a flower, say – and\n",
    "it would learn and get more accurate. But that output is binary (yes/no) and is dependent on the\n",
    "algorithm, not the data. In the image recognition case, the outcome is not binary and not dependent on\n",
    "the algorithm.\n",
    "The neural network performs MICRO calculations with computational on many layers. Neural networks\n",
    "also support weighting data for ‘confidence. These results in a probabilistic system, vs. deterministic, and\n",
    "can handle tasks that we think of as requiring more ‘human-like’ judgment.\n"
   ]
  },
  {
   "cell_type": "markdown",
   "id": "a7d77333-392b-48d8-a677-e4176e5e86de",
   "metadata": {},
   "source": [
    "q2.what is supervised learnig?list some examples of supervised learing."
   ]
  },
  {
   "cell_type": "markdown",
   "id": "f480a1fc-5b6f-4aa5-8d8e-4a0046f2779e",
   "metadata": {},
   "source": [
    "Supervised learning\n",
    "In a supervised learning model, the algorithm learns on a labeled dataset, to generate reasonable\n",
    "predictions for the response to new data. (Forecasting outcome of new data)\n",
    "• Regression\n",
    "• Classification\n",
    "ex=no.of hours placed\n"
   ]
  },
  {
   "cell_type": "markdown",
   "id": "d9869c6c-fb77-420d-a2e7-7017ea9b3d22",
   "metadata": {},
   "source": [
    "q3.what is unsupervised learnig?list some examples of unsupervised learing."
   ]
  },
  {
   "cell_type": "code",
   "execution_count": null,
   "id": "fd8b9a68-46c3-4ecf-a689-0a4fe1e89e33",
   "metadata": {},
   "outputs": [],
   "source": [
    "Unsupervised learning\n",
    "An unsupervised model, in contrast, provides unlabelled data that the algorithm tries to make sense of by\n",
    "extracting features, co-occurrence and underlying patterns on its own. We use unsupervised learning for\n",
    "• Clustering\n",
    "• Anomaly detection\n",
    "• Association\n",
    "• Autoencoders\n",
    "\n"
   ]
  },
  {
   "cell_type": "markdown",
   "id": "833b2cda-12f8-4d2f-bee1-7cbcb307e19a",
   "metadata": {},
   "source": [
    "Q4. What is the difference between AI, Data Science, ML, and DL?\n"
   ]
  },
  {
   "cell_type": "markdown",
   "id": "7828a74e-77ca-4c69-9ccc-2d09f9e368b8",
   "metadata": {},
   "source": [
    "Artificial Intelligence: AI is purely math and scientific exercise, but when it became computational, it\n",
    "started to solve human problems formalized into a subset of computer science. Artificial intelligence has\n",
    "changed the original computational statistics paradigm to the modern idea that machines could mimic\n",
    "actual human capabilities, such as decision making and performing more “human” tasks. Modern AI into\n",
    "two categories\n",
    "1. General AI - Planning, decision making, identifying objects, recognizing sounds, social &\n",
    "business transactions\n",
    "2. Applied AI - driverless/ Autonomous car or machine smartly trade stocks\n",
    "Machine Learning: Instead of engineers “teaching” or programming computers to have what they need\n",
    "to carry out tasks, that perhaps computers could teach themselves – learn something without being\n",
    "explicitly programmed to do so. ML is a form of AI where based on more data, and they can change\n",
    "actions and response, which will make more efficient, adaptable and scalable. e.g., navigation apps and\n",
    "recommendation engines. Classified into:-\n",
    "1. Supervised\n",
    "2. Unsupervised\n",
    "3. Reinforcement learning\n",
    "\n",
    "Data Science: Data science has many tools, techniques, and algorithms called from these fields, plus\n",
    "others –to handle big data\n",
    "The goal of data science, somewhat similar to machine learning, is to make accurate predictions and to\n",
    "automate and perform transactions in real-time, such as purchasing internet traffic or automatically\n",
    "generating content.\n",
    "Data science relies less on math and coding and more on data and building new systems to process the\n",
    "data. Relying on the fields of data integration, distributed architecture, automated machine learning, data\n",
    "visualization, data engineering, and automated data-driven decisions, data science can cover an entire\n",
    "spectrum of data processing, not only the algorithms or statistics related to data.\n",
    "Deep Learning: It is a technique for implementing ML.\n",
    "ML provides the desired output from a given input, but DL reads the input and applies it to another data.\n",
    "In ML, we can easily classify the flower based upon the features. Suppose you want a machine to look at\n",
    "an image and determine what it represents to the human eye, whether a face, flower, landscape, truck,\n",
    "building, etc.\n",
    "Machine learning is not sufficient for this task because machine learning can only produce an output from\n",
    "a data set – whether according to a known algorithm or based on the inherent structure of the data. You\n",
    "might be able to use machine learning to determine whether an image was of an “X” – a flower, say – and\n",
    "it would learn and get more accurate. But that output is binary (yes/no) and is dependent on the\n",
    "algorithm, not the data. In the image recognition case, the outcome is not binary and not dependent on\n",
    "the algorithm.\n",
    "The neural network performs MICRO calculations with computational on many layers. Neural networks\n",
    "also support weighting data for ‘confidence. These results in a probabilistic system, vs. deterministic, and\n",
    "can handle tasks that we think of as requiring more ‘human-like’ judgment.\n"
   ]
  },
  {
   "cell_type": "markdown",
   "id": "97825148-bc61-4723-baab-0fddb716a0a2",
   "metadata": {},
   "source": [
    "q5.what are the main defference between supervised,unsupervised,semi-supervised learnig?"
   ]
  },
  {
   "cell_type": "markdown",
   "id": "dd3df703-fb80-46f6-b019-b6220ee81013",
   "metadata": {},
   "source": [
    "i.output feature of the dataset well be know\n",
    "ii.output will be continuous value\n",
    "iii.combinatiction of both supervised and unsupervised.\n"
   ]
  },
  {
   "cell_type": "markdown",
   "id": "5b626a49-6ebb-4f9b-9382-ab56d2211b19",
   "metadata": {},
   "source": [
    "Q6- What is train, tast and validation split? Explain the importance of each term.\n",
    "Traing Dataset:we will train our models\n",
    "Validation:hyper turing of the model\n",
    "test dataset:model will be test"
   ]
  },
  {
   "cell_type": "markdown",
   "id": "c27c70b4-8356-4ebb-9d64-e5fb89f40ca2",
   "metadata": {},
   "source": [
    "Q7- How can unsupervised learning be used used in anomaly detection?"
   ]
  },
  {
   "cell_type": "markdown",
   "id": "b31a9eb4-e1ba-4422-b7ca-ef1b7b035e69",
   "metadata": {},
   "source": [
    "coutomer segmention "
   ]
  },
  {
   "cell_type": "code",
   "execution_count": null,
   "id": "080a39b4-6120-4571-badc-2558986c864f",
   "metadata": {},
   "outputs": [],
   "source": []
  }
 ],
 "metadata": {
  "kernelspec": {
   "display_name": "Python 3 (ipykernel)",
   "language": "python",
   "name": "python3"
  },
  "language_info": {
   "codemirror_mode": {
    "name": "ipython",
    "version": 3
   },
   "file_extension": ".py",
   "mimetype": "text/x-python",
   "name": "python",
   "nbconvert_exporter": "python",
   "pygments_lexer": "ipython3",
   "version": "3.10.8"
  }
 },
 "nbformat": 4,
 "nbformat_minor": 5
}
