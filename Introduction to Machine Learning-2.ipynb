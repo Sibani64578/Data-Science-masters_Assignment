{
 "cells": [
  {
   "cell_type": "markdown",
   "id": "4181e19d-a776-4e72-be1c-4c45a825a8bd",
   "metadata": {},
   "source": [
    "Q1: Define overfitting and underfitting in machine learning. What are the consequences of each, and how\n",
    "can they be mitigated?"
   ]
  },
  {
   "cell_type": "code",
   "execution_count": null,
   "id": "7bc59b55-48f4-4f79-8ef2-aa48c3ccc1de",
   "metadata": {},
   "outputs": [],
   "source": [
    "Overfitting occurs when the model fits the training data too well, while underfitting occurs when the model fits the training data poorly"
   ]
  },
  {
   "cell_type": "markdown",
   "id": "9fbbc5dc-fdd3-4902-beb4-1bdce034714d",
   "metadata": {},
   "source": [
    "Q2: How can we reduce overfitting? Explain in brief."
   ]
  },
  {
   "cell_type": "markdown",
   "id": "d53767a3-ecdb-48a6-906d-97cad319d832",
   "metadata": {},
   "source": [
    "If test aacurace is highe abd test accuracy is low then the this procwss is overfiting \n",
    "become the text accurace is high the good"
   ]
  },
  {
   "cell_type": "markdown",
   "id": "d9b8c060-7f2a-47e0-8519-760d5ffe5d31",
   "metadata": {},
   "source": [
    "Q3: Explain underfitting. List scenarios where underfitting can occur in ML."
   ]
  },
  {
   "cell_type": "markdown",
   "id": "ac5cafd6-d923-44c0-89b8-c0631397bda1",
   "metadata": {},
   "source": [
    "When the model fits the training data poorly and performs well on new data"
   ]
  },
  {
   "cell_type": "markdown",
   "id": "884fc468-4793-4953-9289-f82c82adb9f0",
   "metadata": {},
   "source": [
    "Q4: Explain the bias-variance tradeoff in machine learning. What is the relationship between bias and\n",
    "variance, and how do they affect model performance?"
   ]
  },
  {
   "cell_type": "code",
   "execution_count": null,
   "id": "008bf7a5-0917-429f-85b8-082f182a3493",
   "metadata": {},
   "outputs": [],
   "source": [
    "The tendency of the model to make systematic errors\n",
    "\n",
    " The tendency of the model to make random errors"
   ]
  },
  {
   "cell_type": "code",
   "execution_count": null,
   "id": "81698767-e461-422e-abcf-52e6d9ea8f96",
   "metadata": {},
   "outputs": [],
   "source": []
  }
 ],
 "metadata": {
  "kernelspec": {
   "display_name": "Python 3 (ipykernel)",
   "language": "python",
   "name": "python3"
  },
  "language_info": {
   "codemirror_mode": {
    "name": "ipython",
    "version": 3
   },
   "file_extension": ".py",
   "mimetype": "text/x-python",
   "name": "python",
   "nbconvert_exporter": "python",
   "pygments_lexer": "ipython3",
   "version": "3.10.8"
  }
 },
 "nbformat": 4,
 "nbformat_minor": 5
}
