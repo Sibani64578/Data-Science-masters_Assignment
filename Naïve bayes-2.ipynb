{
 "cells": [
  {
   "cell_type": "markdown",
   "id": "2313799a-0046-44cb-989e-a143f5547592",
   "metadata": {},
   "source": [
    "# Q1. A company conducted a survey of its employees and found that 70% of the employees use the company's health insurance plan, while 40% of the employees who use the plan are smokers. What is the probability that an employee is a smoker given that he/she uses the health insurance plan?"
   ]
  },
  {
   "cell_type": "markdown",
   "id": "0f50a06a-f01a-474c-90fc-dd3c02a51cf8",
   "metadata": {},
   "source": [
    "P(Smoker∣Usesinsuranceplan)= \n",
    "P(Usesinsuranceplan)\n",
    "P(Usesinsuranceplan∣Smoker)⋅P(Smoker)\n",
    "​\n",
    " \n",
    "\n",
    "�\n",
    "(\n",
    "�\n",
    "�\n",
    "�\n",
    "�\n",
    "�\n",
    "�\n",
    "∣\n",
    "�\n",
    "�\n",
    "�\n",
    "�\n",
    "�\n",
    "�\n",
    "�\n",
    "�\n",
    "�\n",
    "�\n",
    "�\n",
    "�\n",
    "�\n",
    "�\n",
    "�\n",
    "�\n",
    "�\n",
    ")\n",
    "=\n",
    "0.40\n",
    "∗\n",
    "0.70\n",
    "0.70\n",
    "P(Smoker∣Usesinsuranceplan)= \n",
    "0.70\n",
    "0.40∗0.70\n",
    "​\n",
    " \n",
    "\n"
   ]
  },
  {
   "cell_type": "markdown",
   "id": "fc1bb258-a50d-4e24-9c72-316a6ef746ab",
   "metadata": {},
   "source": [
    "# Q2. What is the difference between Bernoulli Naive Bayes and Multinomial Naive Bayes?"
   ]
  },
  {
   "cell_type": "markdown",
   "id": "66f07986-0a53-4a6b-9096-75e4c946adc2",
   "metadata": {},
   "source": [
    "When ever features are folling a bernoulli distribution,then we use bernolli abd multinomial used inpute data is text"
   ]
  },
  {
   "cell_type": "markdown",
   "id": "34fecc1e-4c9f-43e6-8680-b9d95014ed72",
   "metadata": {},
   "source": [
    "# Q3. How does Bernoulli Naive Bayes handle missing values?"
   ]
  },
  {
   "cell_type": "markdown",
   "id": "27f59a65-e520-4be7-8969-ac075a75f68b",
   "metadata": {},
   "source": [
    "Bernoulli Naive Bayes is a variant of the Naive Bayes algorithm that is specifically designed for binary data, where each feature is a binary attribute (e.g., yes/no, 1/0, true/false). It is commonly used in text classification tasks, such as spam detection, sentiment analysis, and document categorization"
   ]
  },
  {
   "cell_type": "markdown",
   "id": "424a233c-dd60-4cdc-9c18-ecfcf7b5e0c6",
   "metadata": {},
   "source": [
    "# Q4. Can Gaussian Naive Bayes be used for multi-class classification?"
   ]
  },
  {
   "cell_type": "markdown",
   "id": "65f6bcf2-33c0-4288-be54-070c1767b1af",
   "metadata": {},
   "source": [
    "Yes, Gaussian Naive Bayes can be used for multi-class classification tasks. Gaussian Naive Bayes is an extension of the Naive Bayes algorithm that is suitable for continuous or real-valued data."
   ]
  },
  {
   "cell_type": "code",
   "execution_count": null,
   "id": "548ce83b-a398-4b25-85e4-b1a328ff5dbe",
   "metadata": {},
   "outputs": [],
   "source": []
  }
 ],
 "metadata": {
  "kernelspec": {
   "display_name": "Python 3 (ipykernel)",
   "language": "python",
   "name": "python3"
  },
  "language_info": {
   "codemirror_mode": {
    "name": "ipython",
    "version": 3
   },
   "file_extension": ".py",
   "mimetype": "text/x-python",
   "name": "python",
   "nbconvert_exporter": "python",
   "pygments_lexer": "ipython3",
   "version": "3.10.8"
  }
 },
 "nbformat": 4,
 "nbformat_minor": 5
}
