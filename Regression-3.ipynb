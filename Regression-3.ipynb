{
 "cells": [
  {
   "cell_type": "markdown",
   "id": "520f4c3c-a598-4092-8d77-7f719047caac",
   "metadata": {},
   "source": [
    "# Q1. What is Ridge Regression, and how does it differ from ordinary least squares regression?"
   ]
  },
  {
   "cell_type": "markdown",
   "id": "135e65bd-57c6-4513-98fa-9e3cc119deba",
   "metadata": {},
   "source": [
    "The main aim of ridge regression is to reduce the overfiting.becouse the when the train accuracy is highe but test accuracy is low in thos case i usedd ridge regression..\n"
   ]
  },
  {
   "cell_type": "markdown",
   "id": "b546a5ca-af27-4e87-8a05-8f477ed0e302",
   "metadata": {},
   "source": [
    "# Q2. What are the assumptions of Ridge Regression?"
   ]
  },
  {
   "cell_type": "markdown",
   "id": "f909beba-94b0-4ddc-b98c-5ea9ed97d92e",
   "metadata": {},
   "source": [
    "Ridge Regression is a linear regression technique used for handling multicollinearity and preventing overfitting in a multiple regression model. The key assumption in Ridge Regression is the same as in linear regression, but it also has an additional assumption related to the regularization term. Here are the main assumptions of Ridge Regression"
   ]
  },
  {
   "cell_type": "markdown",
   "id": "fe97732a-3c43-4bcb-8d0b-0ab5953fc546",
   "metadata": {},
   "source": [
    "# Q3. How do you select the value of the tuning parameter (lambda) in Ridge Regression?\n"
   ]
  },
  {
   "cell_type": "markdown",
   "id": "06550749-3131-4a23-9336-c6ebd0aa9542",
   "metadata": {},
   "source": [
    "\n",
    "In Ridge Regression, the tuning parameter λ (lambda) controls the strength of regularization applied to the linear regression model\n",
    "becouse the main ami of the ridge regression is error will be not in zreo."
   ]
  },
  {
   "cell_type": "markdown",
   "id": "8a715c97-8726-47ca-afa5-60f7e5b72e28",
   "metadata": {},
   "source": [
    "# Q4. Can Ridge Regression be used for feature selection? If yes, how?"
   ]
  },
  {
   "cell_type": "markdown",
   "id": "25ab2fda-5169-4a5c-aa83-d9319aca1553",
   "metadata": {},
   "source": [
    "no idea about it becouse the main ami of L2 is reducing the overfiting."
   ]
  },
  {
   "cell_type": "markdown",
   "id": "607d0c7b-121c-4b05-af44-413361c8e3e7",
   "metadata": {},
   "source": [
    "# Q5. How does the Ridge Regression model perform in the presence of multicollinearity?"
   ]
  },
  {
   "cell_type": "markdown",
   "id": "b1987410-cca9-49e2-812d-6e420d6bfde0",
   "metadata": {},
   "source": [
    "Ridge Regression is a valuable tool for addressing multicollinearity in multiple linear regression models. Multicollinearity occurs when two or more independent variables in a regression model are highly correlated, which can lead to several issues, including unstable and unreliable coefficient estimates."
   ]
  },
  {
   "cell_type": "markdown",
   "id": "e45b42f1-ac5d-47d6-9f87-1971105982a8",
   "metadata": {},
   "source": [
    "# Q6. Can Ridge Regression handle both categorical and continuous independent variables?"
   ]
  },
  {
   "cell_type": "markdown",
   "id": "9a20d9c1-09b2-4770-8b5c-94871a9e7ce7",
   "metadata": {},
   "source": [
    "no becouse.Ridge Regression is primarily designed for handling continuous independent variables in a linear regression context. It's based on the assumption that the relationship between the independent variables and the dependent variable is linear. Therefore, it's most suitable for problems where all the predictors are continuous numeric variables."
   ]
  },
  {
   "cell_type": "code",
   "execution_count": null,
   "id": "e2fb4fc0-1bfe-4de7-889c-caa3c39e943e",
   "metadata": {},
   "outputs": [],
   "source": []
  }
 ],
 "metadata": {
  "kernelspec": {
   "display_name": "Python 3 (ipykernel)",
   "language": "python",
   "name": "python3"
  },
  "language_info": {
   "codemirror_mode": {
    "name": "ipython",
    "version": 3
   },
   "file_extension": ".py",
   "mimetype": "text/x-python",
   "name": "python",
   "nbconvert_exporter": "python",
   "pygments_lexer": "ipython3",
   "version": "3.10.8"
  }
 },
 "nbformat": 4,
 "nbformat_minor": 5
}
