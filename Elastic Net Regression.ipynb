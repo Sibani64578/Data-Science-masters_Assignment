{
 "cells": [
  {
   "cell_type": "markdown",
   "id": "8ea19269-a0f4-4951-91ce-7fc04e67e2b4",
   "metadata": {},
   "source": [
    "# Q1. What is Elastic Net Regression and how does it differ from other regression techniques?"
   ]
  },
  {
   "cell_type": "markdown",
   "id": "27525484-238b-45ae-adfe-784a2f1662a3",
   "metadata": {},
   "source": [
    "Elastic Net Regression is a linear regression technique that combines both L1 (Lasso) and L2 (Ridge) regularization penalties in its cost function. It is designed to address some of the limitations of Lasso and Ridge Regression and provide a more robust approach to linear regression, particularly in situations where there are many features or where some features are highly correlated."
   ]
  },
  {
   "cell_type": "markdown",
   "id": "b112e223-ec40-466e-bb75-68eff7748386",
   "metadata": {},
   "source": [
    "# Q2. How do you choose the optimal values of the regularization parameters for Elastic Net Regression?"
   ]
  },
  {
   "cell_type": "markdown",
   "id": "58c7af35-8688-417c-946c-001fa7e8c483",
   "metadata": {},
   "source": [
    "Choosing the optimal values for the regularization parameters in Elastic Net Regression typically involves a process called hyperparameter tuning. The two main hyperparameters in Elastic Net are \"alpha\" and \"lambda\" (or \"alpha\" and \"rho\"), which control the strength of regularization and the trade-off between L1 and L2 regularization, respectively. H"
   ]
  },
  {
   "cell_type": "markdown",
   "id": "c44b8902-e3ee-4bf9-9e6c-1e0768da6d71",
   "metadata": {},
   "source": [
    "# Q3. What are the advantages and disadvantages of Elastic Net Regression?"
   ]
  },
  {
   "cell_type": "markdown",
   "id": "f559beda-1728-4a1d-b70d-ec610c5b5437",
   "metadata": {},
   "source": [
    "Elastic Net Regression has several advantages and disadvantages, making it a versatile but not always ideal choice for all regression problems. Here are some of the key advantages and disadvantages of Elastic Net Regression"
   ]
  },
  {
   "cell_type": "markdown",
   "id": "8ad6de81-fdaa-44ed-a97e-06624cbb96ca",
   "metadata": {},
   "source": [
    "# Q4. What are some common use cases for Elastic Net Regression?"
   ]
  },
  {
   "cell_type": "markdown",
   "id": "7e96b182-4337-4784-80a7-4564f194d31d",
   "metadata": {},
   "source": [
    "Elastic Net Regression is a versatile technique that can be applied to a variety of regression problems. Its ability to combine L1 (Lasso) and L2 (Ridge) regularization makes it well-suited for addressing specific challenges in different use cases. Here are some common use cases for Elastic Net Regression"
   ]
  },
  {
   "cell_type": "code",
   "execution_count": null,
   "id": "d109ffbd-248a-49a5-9505-a56ad60044c8",
   "metadata": {},
   "outputs": [],
   "source": []
  }
 ],
 "metadata": {
  "kernelspec": {
   "display_name": "Python 3 (ipykernel)",
   "language": "python",
   "name": "python3"
  },
  "language_info": {
   "codemirror_mode": {
    "name": "ipython",
    "version": 3
   },
   "file_extension": ".py",
   "mimetype": "text/x-python",
   "name": "python",
   "nbconvert_exporter": "python",
   "pygments_lexer": "ipython3",
   "version": "3.10.8"
  }
 },
 "nbformat": 4,
 "nbformat_minor": 5
}
