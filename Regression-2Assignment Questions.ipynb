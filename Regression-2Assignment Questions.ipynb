{
 "cells": [
  {
   "cell_type": "markdown",
   "id": "4133e715-0441-4cc6-aebd-8353ee511b67",
   "metadata": {},
   "source": [
    "# Q1. Explain the concept of R-squared in linear regression models. How is it calculated, and what does it represent?"
   ]
  },
  {
   "cell_type": "code",
   "execution_count": null,
   "id": "26b7428f-3de7-4c87-86a1-f046c998b677",
   "metadata": {},
   "outputs": [],
   "source": [
    "the main aim of r squared is calculate the accuracy of the model .r squared ranges betn 0 to 1.\n",
    "R² = 1 - (SSR/ SST)\n",
    "SSR-sum of square residual(error)=different betn achual point and pradicted point the sumation of all the error and squarr=ed called ssr.\n",
    "SST-sum of square total=average of yi lines(error^2)\n",
    "\n",
    "ormula\n",
    "**R^2=1-SSR/SST**\n",
    "- R^2=coefficient of the datermination\n",
    "- SSR =sum of squares of the residuals\n",
    "- SST=total sum of squares"
   ]
  },
  {
   "cell_type": "markdown",
   "id": "99949168-5b10-41f6-88c0-f15371ad8ef9",
   "metadata": {},
   "source": [
    "# Q2. Define adjusted R-squared and explain how it differs from the regular R-squared."
   ]
  },
  {
   "cell_type": "code",
   "execution_count": null,
   "id": "04202c9b-3b33-4a04-b1bf-7ad65b2d291c",
   "metadata": {},
   "outputs": [],
   "source": [
    "## Adjusted r square\n",
    " - ** Adjusted R2=1-[(1-R2)*n-1/(n-k-1)] **\n",
    "- where:\n",
    "- R2:accuracy of the model\n",
    "-  n:The number of observations\n",
    "-    k:The number of predictor variables"
   ]
  },
  {
   "cell_type": "markdown",
   "id": "98e6435c-2166-4727-aab3-583252f463d9",
   "metadata": {},
   "source": [
    "# Q3. When is it more appropriate to use adjusted R-squared?"
   ]
  },
  {
   "cell_type": "code",
   "execution_count": null,
   "id": "2fb347fd-8f3b-480f-ba51-68a63b08aafe",
   "metadata": {},
   "outputs": [],
   "source": [
    "it is good becouse if the independent fearer is not inpotant in this case adjusted R-squared is best.\n",
    "accuracy of the model wll be good"
   ]
  },
  {
   "cell_type": "markdown",
   "id": "a741d57f-b315-448b-a7ab-48fa0faa1b5a",
   "metadata": {},
   "source": [
    "# Q4. What are RMSE, MSE, and MAE in the context of regression analysis? How are these metrics calculated, and what do they represent?"
   ]
  },
  {
   "cell_type": "code",
   "execution_count": null,
   "id": "0be54e66-44e5-4223-9e40-1f04a1da2028",
   "metadata": {},
   "outputs": [],
   "source": [
    "mse=mean squared error=MSE = (1/n) Σ(yi - ŷi)² \n",
    "mas=mean absolute error=(1/n)Σ|y-y^|\n",
    "rmse=root mean squared error=np.sqrt(mse)"
   ]
  },
  {
   "cell_type": "markdown",
   "id": "327b6027-65e7-47f2-907c-766589814edf",
   "metadata": {},
   "source": [
    "# Q5. Discuss the advantages and disadvantages of using RMSE, MSE, and MAE as evaluation metrics in regression analysis."
   ]
  },
  {
   "cell_type": "code",
   "execution_count": null,
   "id": "b8b285bd-e33b-434a-b666-c3db21e118bb",
   "metadata": {},
   "outputs": [],
   "source": [
    "MSE=adv=Equation is differensiable,it is only one local or global menima.dis-not robust to outlears,it is not in the same unit\n",
    "MAE=adv=Robust to outlier,it will be in the same unit,dis-convergense usually takes more time\n",
    "RMSE=same unit,differatiable.dis=not robust to outlier"
   ]
  }
 ],
 "metadata": {
  "kernelspec": {
   "display_name": "Python 3 (ipykernel)",
   "language": "python",
   "name": "python3"
  },
  "language_info": {
   "codemirror_mode": {
    "name": "ipython",
    "version": 3
   },
   "file_extension": ".py",
   "mimetype": "text/x-python",
   "name": "python",
   "nbconvert_exporter": "python",
   "pygments_lexer": "ipython3",
   "version": "3.10.8"
  }
 },
 "nbformat": 4,
 "nbformat_minor": 5
}
