{
 "cells": [
  {
   "cell_type": "markdown",
   "id": "901ecc31-60c6-484f-aa91-4aafb522c2a7",
   "metadata": {},
   "source": [
    "# Q1. Explain the difference between simple linear regression and multiple linear regression. Provide an example of each."
   ]
  },
  {
   "cell_type": "markdown",
   "id": "e18b8372-cdf1-44d9-a0ab-1eb7ecf987de",
   "metadata": {},
   "source": [
    "The mane ami of simple linear regession to find the  best fitline in such a way when do the sumetion to the achual point and predicted point it shoud be minimal.\n",
    "Ex:hight,weight(weight is the input feater and hight is the dependent featior\n",
    "The mane ami of multiple linear regession to find the best 2d plain in the  digram\n",
    "                EX:house price pradiction\n",
    "                place and size of the room is the independend feature and price will be the dependend feature"
   ]
  },
  {
   "cell_type": "markdown",
   "id": "44fdb1ce-86cf-4458-8308-d67642125705",
   "metadata": {},
   "source": [
    "# Q2. Discuss the assumptions of linear regression. How can you check whether these assumptions hold in a given dataset?"
   ]
  },
  {
   "cell_type": "markdown",
   "id": "20722f75-f644-4c78-9f5e-453d9d39efe5",
   "metadata": {},
   "source": [
    "Linear regression is a widely used statistical method for modeling the relationship between a dependent variable (the target) and one or more independent variables (predictors) by fitting a linear equation to the observed data. However, it relies on several key assumptions for the results to be valid. Violation of these assumptions can lead to unreliable or biased results. Here are the main assumptions of linear regression and methods to check if they hold in a given dataset:\n",
    "\n",
    "Linearity: The relationship between the independent variables and the dependent variable is assumed to be linear. To check this assumption:\n",
    "\n",
    "Create scatterplots of the dependent variable against each independent variable separately. If the points appear to form a roughly straight line, the linearity assumption is likely met."
   ]
  },
  {
   "cell_type": "markdown",
   "id": "4ca59e77-3689-41cf-a034-d8cb7544b5f8",
   "metadata": {},
   "source": [
    "# Q3. How do you interpret the slope and intercept in a linear regression model? Provide an example using a real-world scenario."
   ]
  },
  {
   "cell_type": "markdown",
   "id": "3d756009-2b9a-416b-9d08-58d9157a6f9e",
   "metadata": {},
   "source": [
    "if the x coadinet value will be zero the best fitline meet in y this point is called interpret\n",
    "Let's say we have a dataset that examines the relationship between the number of hours spent studying (independent variable) and the exam score (dependent variable) for a group of students. A linear regression model might look like this:\n",
    "\n",
    "Exam Score = 75 + 5 * Hours Studied"
   ]
  },
  {
   "cell_type": "markdown",
   "id": "a1ffc920-b2be-45cb-93f8-f536492a8928",
   "metadata": {},
   "source": [
    "# Q4. Explain the concept of gradient descent. How is it used in machine learning?"
   ]
  },
  {
   "cell_type": "code",
   "execution_count": 2,
   "id": "55937fa4-033b-4a4d-86e9-2645ddf91c75",
   "metadata": {},
   "outputs": [
    {
     "ename": "SyntaxError",
     "evalue": "invalid syntax (386041801.py, line 1)",
     "output_type": "error",
     "traceback": [
      "\u001b[0;36m  Cell \u001b[0;32mIn[2], line 1\u001b[0;36m\u001b[0m\n\u001b[0;31m    Gradient descent is an optimization algorithm used in machine learning to find the minimum of a function, typically a cost or loss function.to find the global minimal of the model\u001b[0m\n\u001b[0m             ^\u001b[0m\n\u001b[0;31mSyntaxError\u001b[0m\u001b[0;31m:\u001b[0m invalid syntax\n"
     ]
    }
   ],
   "source": [
    "Gradient descent is an optimization algorithm used in machine learning to find the minimum of a function, typically a cost or loss function.to find the global minimal of the model"
   ]
  },
  {
   "cell_type": "markdown",
   "id": "2a86f13d-655c-4148-9621-34315c7f3fda",
   "metadata": {},
   "source": [
    "# Q5. Describe the multiple linear regression model. How does it differ from simple linear regression?"
   ]
  },
  {
   "cell_type": "code",
   "execution_count": 3,
   "id": "7e7182fe-9caf-4a26-a0a7-5d2c9b6097d5",
   "metadata": {},
   "outputs": [
    {
     "ename": "SyntaxError",
     "evalue": "invalid octal literal (82379557.py, line 3)",
     "output_type": "error",
     "traceback": [
      "\u001b[0;36m  Cell \u001b[0;32mIn[3], line 3\u001b[0;36m\u001b[0m\n\u001b[0;31m    h0(x)=0o+01x1+02x2+......+0nxn\u001b[0m\n\u001b[0m           ^\u001b[0m\n\u001b[0;31mSyntaxError\u001b[0m\u001b[0;31m:\u001b[0m invalid octal literal\n"
     ]
    }
   ],
   "source": [
    "multiple linear regression model is more then two data will be independet feature and one dependent featuer.\n",
    "generic  equation:\n",
    "    h0(x)=0o+01x1+02x2+......+0nxn\n",
    "    \n",
    "    differ becouse it taken one independent feature but multiple contains more the two independent feature"
   ]
  },
  {
   "cell_type": "markdown",
   "id": "6ce24e8d-61c3-4c7e-9e08-960703d423cd",
   "metadata": {},
   "source": [
    "# Q7. Describe the polynomial regression model. How is it different from linear regression?"
   ]
  },
  {
   "cell_type": "markdown",
   "id": "e22f864b-1179-4e99-8c63-5d1a4e79ba9b",
   "metadata": {},
   "source": [
    "Polynomial regression is a type of regression analysis used in statistics and machine learning to model the relationship between a dependent variable and one or more independent variables by fitting a polynomial equation to the data. It is an extension of linear regression, and the primary difference lies in the form of the regression equation.\n",
    "\n",
    "Y = β₀ + β₁X + β₂X² + β₃X³ + ... + βₖXᵏ + ε"
   ]
  },
  {
   "cell_type": "code",
   "execution_count": null,
   "id": "f5d6a8bf-3230-464d-808e-8da5c06d6077",
   "metadata": {},
   "outputs": [],
   "source": []
  },
  {
   "cell_type": "code",
   "execution_count": null,
   "id": "b3bf5d04-96d0-4988-bfbc-f48922ce251e",
   "metadata": {},
   "outputs": [],
   "source": []
  }
 ],
 "metadata": {
  "kernelspec": {
   "display_name": "Python 3 (ipykernel)",
   "language": "python",
   "name": "python3"
  },
  "language_info": {
   "codemirror_mode": {
    "name": "ipython",
    "version": 3
   },
   "file_extension": ".py",
   "mimetype": "text/x-python",
   "name": "python",
   "nbconvert_exporter": "python",
   "pygments_lexer": "ipython3",
   "version": "3.10.8"
  }
 },
 "nbformat": 4,
 "nbformat_minor": 5
}
