{
 "cells": [
  {
   "cell_type": "markdown",
   "id": "2ebb8c9b-004b-46d0-a163-f6e65d68bbe2",
   "metadata": {},
   "source": [
    "# Q1. What are the key features of the wine quality data set? Discuss the importance of each feature in predicting the quality of wine."
   ]
  },
  {
   "cell_type": "markdown",
   "id": "9def768c-68b9-4310-8ed8-29d8957c825c",
   "metadata": {},
   "source": [
    "gender : sex of students -> (Male/female)\n",
    "race/ethnicity : ethnicity of students -> (Group A, B,C, D,E)\n",
    "parental level of education : parents' final education ->(bachelor's degree,some college,master's degree,associate's degree,high school)\n",
    "lunch : having lunch before test (standard or free/reduced)\n",
    "test preparation course : complete or not complete before test\n",
    "math score\n",
    "reading score\n",
    "writing score"
   ]
  },
  {
   "cell_type": "markdown",
   "id": "6d6a3570-8bbd-4cad-b140-4d0fa22f5985",
   "metadata": {},
   "source": [
    "# Q2. How did you handle missing data in the wine quality data set during the feature engineering process?Discuss the advantages and disadvantages of different imputation techniques."
   ]
  },
  {
   "cell_type": "code",
   "execution_count": null,
   "id": "e55558c9-41d4-4482-8702-7621365cdb74",
   "metadata": {},
   "outputs": [],
   "source": [
    "## check missing Values\n",
    "df.isnull().sum()"
   ]
  },
  {
   "cell_type": "markdown",
   "id": "7295298e-78be-4c07-8d85-abef4908311d",
   "metadata": {},
   "source": [
    "# Q3. What are the key factors that affect students' performance in exams? How would you go about analyzing these factors using statistical techniques?"
   ]
  },
  {
   "cell_type": "code",
   "execution_count": null,
   "id": "7b9b866e-a0d2-4686-b08e-e899609cd638",
   "metadata": {},
   "outputs": [],
   "source": []
  }
 ],
 "metadata": {
  "kernelspec": {
   "display_name": "Python 3 (ipykernel)",
   "language": "python",
   "name": "python3"
  },
  "language_info": {
   "codemirror_mode": {
    "name": "ipython",
    "version": 3
   },
   "file_extension": ".py",
   "mimetype": "text/x-python",
   "name": "python",
   "nbconvert_exporter": "python",
   "pygments_lexer": "ipython3",
   "version": "3.10.8"
  }
 },
 "nbformat": 4,
 "nbformat_minor": 5
}
